{
 "cells": [
  {
   "cell_type": "code",
   "execution_count": 91,
   "metadata": {},
   "outputs": [],
   "source": [
    "import re"
   ]
  },
  {
   "cell_type": "code",
   "execution_count": 92,
   "metadata": {},
   "outputs": [],
   "source": [
    "isu = 367349"
   ]
  },
  {
   "cell_type": "code",
   "execution_count": 93,
   "metadata": {},
   "outputs": [
    {
     "data": {
      "text/plain": [
       "(5, 1, 3)"
      ]
     },
     "execution_count": 93,
     "metadata": {},
     "output_type": "execute_result"
    }
   ],
   "source": [
    "isu % 6, isu % 4, isu % 7 # [<|"
   ]
  },
  {
   "cell_type": "code",
   "execution_count": 94,
   "metadata": {},
   "outputs": [],
   "source": [
    "emoji_re = re.compile(r'\\[<\\|')"
   ]
  },
  {
   "cell_type": "code",
   "execution_count": 95,
   "metadata": {},
   "outputs": [],
   "source": [
    "def count_emojis(text):\n",
    "    return len(emoji_re.findall(text))"
   ]
  },
  {
   "cell_type": "code",
   "execution_count": 96,
   "metadata": {},
   "outputs": [],
   "source": [
    "# vowels in russian and english capitalized and lowercase\n",
    "vowels = 'AEIOUaeiouАЕЁИОУЫЭЮЯаеёиоуыэюя'\n",
    "# consonants in russian and english capitalized and lowercase\n",
    "consonants = 'BCDFGHJKLMNPQRSTVWXYZbcdfghjklmnpqrstvwxyzБВГДЖЗЙКЛМНПРСТФХЦЧШЩбвгджзйклмнпрстфхцчшщ'"
   ]
  },
  {
   "cell_type": "code",
   "execution_count": 97,
   "metadata": {},
   "outputs": [],
   "source": [
    "# regex for finding words with two or more vowels in a row not followed by three or more consonants\n",
    "second_re = re.compile(r'\\b\\w*[%s]{2,}\\w*\\b(?!\\s*\\b(?:[%s]*[%s]){3,})' % (vowels, vowels, consonants))"
   ]
  },
  {
   "cell_type": "code",
   "execution_count": 98,
   "metadata": {},
   "outputs": [],
   "source": [
    "def all_second(text) -> list[str]:\n",
    "    return second_re.findall(text)"
   ]
  },
  {
   "cell_type": "code",
   "execution_count": 99,
   "metadata": {},
   "outputs": [
    {
     "data": {
      "text/plain": [
       "['гуляет']"
      ]
     },
     "execution_count": 99,
     "metadata": {},
     "output_type": "execute_result"
    }
   ],
   "source": [
    "all_second('Кривошеее существо гуляет по парку')"
   ]
  },
  {
   "cell_type": "code",
   "execution_count": 100,
   "metadata": {},
   "outputs": [
    {
     "data": {
      "text/plain": [
       "4"
      ]
     },
     "execution_count": 100,
     "metadata": {},
     "output_type": "execute_result"
    }
   ],
   "source": [
    "isu % 5"
   ]
  },
  {
   "cell_type": "code",
   "execution_count": 101,
   "metadata": {},
   "outputs": [],
   "source": [
    "all_letters = vowels + consonants\n",
    "\n",
    "def get_third_regex(letters: tuple[str, str, str], spacing1: int, spacing2: int) -> re.Pattern:\n",
    "    selected_letters = letters[0] + letters[1] + letters[2]\n",
    "    not_selected_letters = ''.join(set(all_letters) - set(selected_letters))\n",
    "    # not_selected_letters* letters[0] not_selected_letters{spacing1} letters[1] not_selected_letters{spacing2} letters[2] not_selected_letters*\n",
    "    return re.compile(r'\\b[%s]*[%s][%s]{%d}[%s][%s]{%d}[%s][%s]*\\b' % (not_selected_letters, letters[0], not_selected_letters, spacing1, letters[1], not_selected_letters, spacing2, letters[2], not_selected_letters))"
   ]
  },
  {
   "cell_type": "code",
   "execution_count": 102,
   "metadata": {},
   "outputs": [],
   "source": [
    "def all_third(text, letters: tuple[str, str, str], spacing1: int, spacing2: int) -> list[str]:\n",
    "    regex = get_third_regex(letters, spacing1, spacing2)\n",
    "    return regex.findall(text)"
   ]
  },
  {
   "cell_type": "code",
   "execution_count": 103,
   "metadata": {},
   "outputs": [
    {
     "data": {
      "text/plain": [
       "['КоРмА']"
      ]
     },
     "execution_count": 103,
     "metadata": {},
     "output_type": "execute_result"
    }
   ],
   "source": [
    "regex = get_third_regex(('Кк', 'Рр', 'Аа'), 1, 1)\n",
    "\n",
    "regex.findall('КоРмА КоРкА КоРчмА')"
   ]
  },
  {
   "cell_type": "code",
   "execution_count": 107,
   "metadata": {},
   "outputs": [],
   "source": [
    "# test emojis\n",
    "assert count_emojis('[<|') == 1\n",
    "assert count_emojis('[<|[<|') == 2\n",
    "assert count_emojis('do not count this [<|') == 1\n",
    "assert count_emojis('lorem ipsum') == 0\n",
    "assert count_emojis('lorem [<| ipsum [<|') == 2\n"
   ]
  },
  {
   "cell_type": "code",
   "execution_count": 108,
   "metadata": {},
   "outputs": [],
   "source": [
    "# test second\n",
    "assert all_second('Кривошеее существо гуляет по парку') == ['гуляет']\n",
    "assert all_second('Кривошеее существо гуляет по парку Кривошеее существо гуляет по парку') == ['гуляет', 'гуляет']\n",
    "assert all_second('lorem ipsum dolor sit amet consectetur adipiscing elit sed do eiusmod tempor incididunt ut labore et dolore magna aliqua') == ['aliqua']\n",
    "assert all_second('я не знаю как это сделать') == ['знаю']\n",
    "assert all_second('прошу отчислить меня по собственному желанию') == ['желанию']"
   ]
  },
  {
   "cell_type": "code",
   "execution_count": 109,
   "metadata": {},
   "outputs": [],
   "source": [
    "# test third\n",
    "assert all_third('КоРмА КоРкА КоРчмА',\n",
    "                 ('Кк', 'Рр', 'Аа'), 1, 1) == ['КоРмА']\n",
    "assert all_third('КоРмА КоРкА КоРчмА',\n",
    "                 ('Кк', 'Рр', 'Аа'), 1, 2) == ['КоРчмА']\n",
    "assert all_third('прошу отчислить меня по собственному желанию',\n",
    "                 ('оО', 'еЕ', 'оО'), 4, 2) == ['собственному']\n",
    "assert all_third('lorem ipsum dolor sit amet consectetur adipiscing elit sed do eiusmod tempor incididunt ut labore et dolore magna aliqua',\n",
    "                 ('Oo', 'Ll', 'Oo'), 0, 0) == ['dolor', 'dolore']\n",
    "assert all_third('lorem ipsum dolor sit amet consectetur adipiscing elit sed do eiusmod tempor incididunt ut labore et dolore magna aliqua',\n",
    "                 ('Oo', 'Ll', 'Oo'), 1, 1) == []\n"
   ]
  },
  {
   "cell_type": "code",
   "execution_count": null,
   "metadata": {},
   "outputs": [],
   "source": []
  }
 ],
 "metadata": {
  "kernelspec": {
   "display_name": "Python 3 (ipykernel)",
   "language": "python",
   "name": "python3"
  },
  "language_info": {
   "codemirror_mode": {
    "name": "ipython",
    "version": 3
   },
   "file_extension": ".py",
   "mimetype": "text/x-python",
   "name": "python",
   "nbconvert_exporter": "python",
   "pygments_lexer": "ipython3",
   "version": "3.10.8 (main, Nov  1 2022, 14:18:21) [GCC 12.2.0]"
  },
  "vscode": {
   "interpreter": {
    "hash": "767d51c1340bd893661ea55ea3124f6de3c7a262a8b4abca0554b478b1e2ff90"
   }
  }
 },
 "nbformat": 4,
 "nbformat_minor": 2
}
